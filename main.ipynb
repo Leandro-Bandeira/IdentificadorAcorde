{
 "cells": [
  {
   "cell_type": "code",
   "execution_count": 41,
   "id": "8ff3ba75-9200-4dc9-83fe-ed35bab3b5be",
   "metadata": {},
   "outputs": [],
   "source": [
    "import librosa # Biblioteca para leitura de áudio\n",
    "from IPython.display import Audio\n",
    "import numpy as np\n",
    "from scipy.fftpack import dct\n",
    "import scipy as sp\n",
    "import matplotlib.pyplot as plt\n",
    "import csv\n",
    "from pydub import AudioSegment\n",
    "import numpy as np\n",
    "import pandas as pd"
   ]
  },
  {
   "cell_type": "code",
   "execution_count": 2,
   "id": "7cedb1b4-34a7-4a95-b438-27655d587f38",
   "metadata": {},
   "outputs": [
    {
     "name": "stdout",
     "output_type": "stream",
     "text": [
      "Defaulting to user installation because normal site-packages is not writeable\n",
      "Collecting pydub\n",
      "  Downloading pydub-0.25.1-py2.py3-none-any.whl.metadata (1.4 kB)\n",
      "Downloading pydub-0.25.1-py2.py3-none-any.whl (32 kB)\n",
      "Installing collected packages: pydub\n",
      "Successfully installed pydub-0.25.1\n",
      "\n",
      "\u001b[1m[\u001b[0m\u001b[34;49mnotice\u001b[0m\u001b[1;39;49m]\u001b[0m\u001b[39;49m A new release of pip is available: \u001b[0m\u001b[31;49m24.1.1\u001b[0m\u001b[39;49m -> \u001b[0m\u001b[32;49m24.2\u001b[0m\n",
      "\u001b[1m[\u001b[0m\u001b[34;49mnotice\u001b[0m\u001b[1;39;49m]\u001b[0m\u001b[39;49m To update, run: \u001b[0m\u001b[32;49mpython3 -m pip install --upgrade pip\u001b[0m\n"
     ]
    }
   ],
   "source": [
    "!pip install pydub\n"
   ]
  },
  {
   "cell_type": "code",
   "execution_count": 81,
   "id": "05ec56a6-14ae-467a-8a7a-6e1a07fa968c",
   "metadata": {},
   "outputs": [],
   "source": [
    "# Função responsável por segmentar a música em intervalos de acordo com dataSet\n",
    "def segment_audio(audio, intervals, music_name):\n",
    "  for (start, end) in intervals:\n",
    "    segment = audio[start*1000:end*1000]\n",
    "    segment.export(f\"{music_name}/{music_name}[{start},{end}].wav\", format=\"wav\")\n",
    "\n",
    "# Função responsável por criar um data frame para todas as músicas dos dados\n",
    "# Esse data frame terá a nota correspondente e suas frequencias normalizadas do DCT\n",
    "def create_df_dct_audios(names_music,all_data_audios, data_set_musics):\n",
    "    all_df = []\n",
    "\n",
    "    # Para cada arquivo de musica\n",
    "    for music_name in names_music:\n",
    "        # Pega seus dados e suas notas\n",
    "        result_data = [music for music in all_data_audios if music['name'] == music_name]\n",
    "        result_label = [music for music in data_set_musics if music['name'] == music_name]\n",
    "        # Aplica no dct e salva no dataframe\n",
    "        dct_data = []\n",
    "        for audio in result_data[0]['data']:\n",
    "            dct_data.append(abs(sp.fft.dct(audio, norm='ortho'))[:12])\n",
    "        df = pd.DataFrame({\n",
    "            'Label': result_label[0]['achord_segments'],\n",
    "            'DCT': dct_data\n",
    "        })\n",
    "        all_df.append(df)\n",
    "        \n",
    "    \n",
    "    return all_df"
   ]
  },
  {
   "cell_type": "code",
   "execution_count": 83,
   "id": "eaea8883-9b13-44ff-98d1-07bf69f5702e",
   "metadata": {},
   "outputs": [],
   "source": [
    "# Leitura do nome das músicas\n",
    "file_names_musics = 'list_musics.txt'\n",
    "names_musics = []\n",
    "with open(file_names_musics, mode='r') as file:\n",
    "    for line in file:\n",
    "        if line == '\\n':\n",
    "            continue\n",
    "        line = line.strip()\n",
    "        names_musics.append(line)\n",
    "\n",
    "data_set_musics = []\n",
    "# Criação de um dicionario contendo as informações do tipo\n",
    "# Nome, segmentos de audio e acordes para cada segmento\n",
    "for music_name in names_musics:\n",
    "    file_audio_segments = f'{music_name}/intervalos_notas.txt'\n",
    "    time_segments = [] # segmentos de áudio importante da música para criação do dataSet\n",
    "    achord_segments = [] #achords segments\n",
    "    with open(file_audio_segments, mode='r') as file:\n",
    "        for line in file:\n",
    "            parts = line.strip().split()\n",
    "            start_time = float(parts[0])\n",
    "            end_time = float(parts[1])\n",
    "            label = parts[2]\n",
    "            if label == 'N':\n",
    "              continue\n",
    "            time_segments.append((float(start_time), float(end_time)))\n",
    "            achord_segments.append(label)\n",
    "    dic_current_music = {\n",
    "        'name': music_name,\n",
    "        'time_segments': time_segments,\n",
    "        'achord_segments': achord_segments\n",
    "    }\n",
    "    data_set_musics.append(dic_current_music)\n"
   ]
  },
  {
   "cell_type": "code",
   "execution_count": 84,
   "id": "8fb86547-cde7-4629-95b1-e421bec0cd34",
   "metadata": {},
   "outputs": [],
   "source": [
    "# Captura os audios originais de cada musica e segmenta de acordo com os intervalos de tempo\n",
    "all_original_audios = []\n",
    "for music_name in names_musics:\n",
    "    audio_path = f'{music_name}/{music_name}.wav'\n",
    "    audio_original = AudioSegment.from_file(audio_path)\n",
    "    result = [music for music in data_set_musics if music['name'] == music_name]\n",
    "    time_segments = result[0]['time_segments']\n",
    "    segment_audio(audio_original, time_segments, music_name)"
   ]
  },
  {
   "cell_type": "code",
   "execution_count": 88,
   "id": "b6a95243-2232-4b0a-b0df-7025a7526b17",
   "metadata": {},
   "outputs": [
    {
     "name": "stdout",
     "output_type": "stream",
     "text": [
      "       Label                                                DCT\n",
      "0          E  [0.14012113, 0.14712815, 0.14936303, 0.0172292...\n",
      "1          A  [0.013855663, 0.03156995, 0.026350904, 0.12878...\n",
      "2          E  [0.13060692, 0.05941716, 0.078089595, 0.036042...\n",
      "3          B  [0.046385247, 0.00016182648, 0.028308276, 0.03...\n",
      "4          E  [0.11023276, 0.14720166, 0.17763585, 0.2148806...\n",
      "5      E:7/3  [0.039325707, 0.059402987, 0.12769395, 0.19411...\n",
      "6          A  [0.056254942, 0.012674196, 0.025040122, 0.0324...\n",
      "7   A:min/b3  [0.07840788, 0.022058368, 0.08521865, 0.016518...\n",
      "8          E  [0.009787019, 0.1343666, 0.035948515, 0.032844...\n",
      "9          B  [0.07034565, 0.09474815, 0.004579872, 0.120591...\n",
      "10         E  [0.057095475, 0.039320014, 0.028444944, 0.0350...\n",
      "11         A  [0.050989646, 0.07264544, 0.07267993, 0.039554...\n"
     ]
    }
   ],
   "source": [
    "all_data_audios = []\n",
    "# Para cada arquivo de musica, segmenta o audio das musicas originais em intervalos dado pelo data set\n",
    "for music_name in names_musics:\n",
    "    result = [music for music in data_set_musics if music['name'] == music_name]\n",
    "    time_segments = result[0]['time_segments']\n",
    "    data_audio = []\n",
    "    # Divisão da musica em intervalos e para cada intervalo armazena seus dados\n",
    "    for (start, end) in time_segments:\n",
    "        audio_path = f\"{music_name}/{music_name}[{start},{end}].wav\"\n",
    "        y, sr = librosa.load(audio_path, sr=None)  # 'y' é o array com os dados de áudio, 'sr' é a taxa de amostragem\n",
    "        data_audio.append(y)\n",
    "    # Cria um dicionario contendo o nome da musica e um vetor bidimensional, onde para cada intervalo vamos ter um array de dados de audio para aquele intervalo\n",
    "    dic_current_music = {\n",
    "        'name': music_name,\n",
    "        'data': data_audio\n",
    "        }    \n",
    "    all_data_audios.append(dic_current_music)\n",
    "\n",
    "all_df_per_music = create_df_dct_audios(names_musics, all_data_audios, data_set_musics)\n"
   ]
  },
  {
   "cell_type": "code",
   "execution_count": null,
   "id": "60855b59-bd5a-4bcd-9ff7-8e77ba75e4b2",
   "metadata": {},
   "outputs": [],
   "source": []
  }
 ],
 "metadata": {
  "kernelspec": {
   "display_name": "Python 3 (ipykernel)",
   "language": "python",
   "name": "python3"
  },
  "language_info": {
   "codemirror_mode": {
    "name": "ipython",
    "version": 3
   },
   "file_extension": ".py",
   "mimetype": "text/x-python",
   "name": "python",
   "nbconvert_exporter": "python",
   "pygments_lexer": "ipython3",
   "version": "3.10.12"
  }
 },
 "nbformat": 4,
 "nbformat_minor": 5
}
