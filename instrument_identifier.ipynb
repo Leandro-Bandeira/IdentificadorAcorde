{
 "cells": [
  {
   "cell_type": "markdown",
   "metadata": {},
   "source": [
    "# Importing libs"
   ]
  },
  {
   "cell_type": "code",
   "execution_count": null,
   "metadata": {},
   "outputs": [],
   "source": [
    "import os\n",
    "import librosa\n",
    "import json\n",
    "import numpy as np\n",
    "import pandas as pd\n",
    "import matplotlib.pyplot as plt\n",
    "\n",
    "from scipy.fftpack import dct\n",
    "from sklearn.ensemble import RandomForestClassifier\n",
    "from sklearn.tree import DecisionTreeClassifier\n",
    "from sklearn.linear_model import LogisticRegression\n",
    "from sklearn.svm import SVC\n",
    "\n",
    "from sklearn.model_selection import train_test_split\n",
    "from sklearn.preprocessing import StandardScaler\n",
    "from sklearn.metrics import accuracy_score, classification_report\n",
    "from sklearn.ensemble import RandomForestClassifier\n",
    "from sklearn.metrics import confusion_matrix, ConfusionMatrixDisplay\n",
    "\n",
    "import tensorflow as tf\n",
    "from tensorflow.keras.models import Sequential\n",
    "from tensorflow.keras.layers import Dense, Dropout\n",
    "from tensorflow.keras.utils import to_categorical\n",
    "from tensorflow.keras import optimizers;\n",
    "\n",
    "from sklearn.model_selection import RandomizedSearchCV\n",
    "from scipy.stats import randint\n",
    "\n",
    "import pandas as pd\n",
    "import numpy as np\n",
    "from sklearn.preprocessing import LabelEncoder\n",
    "from scipy.stats import skew, kurtosis\n"
   ]
  },
  {
   "cell_type": "markdown",
   "metadata": {},
   "source": [
    "## Creating dataframe"
   ]
  },
  {
   "cell_type": "code",
   "execution_count": 241,
   "metadata": {},
   "outputs": [
    {
     "name": "stdout",
     "output_type": "stream",
     "text": [
      "TinySOL/Brass/Trombone/ordinario/\n",
      "TinySOL/Brass/Bass_Tuba/ordinario/\n",
      "TinySOL/Brass/Horn/ordinario/\n",
      "TinySOL/Brass/Trumpet_C/ordinario/\n",
      "TinySOL/Keyboards/Accordion/ordinario/\n",
      "TinySOL/Strings/Violin/ordinario/\n",
      "TinySOL/Strings/Contrabass/ordinario/\n",
      "TinySOL/Strings/Viola/ordinario/\n",
      "TinySOL/Strings/Violoncello/ordinario/\n",
      "TinySOL/Winds/Flute/ordinario/\n",
      "TinySOL/Winds/Bassoon/ordinario/\n",
      "TinySOL/Winds/Clarinet_Bb/ordinario/\n",
      "TinySOL/Winds/Flute/ordinario/\n",
      "TinySOL/Winds/Oboe/ordinario/\n",
      "TinySOL/Winds/Sax_Alto/ordinario/\n"
     ]
    }
   ],
   "source": [
    "base_path = \"TinySOL/\"\n",
    "instruments_type = [\"Brass\", \"Keyboards\", \"Strings\", \"Winds\"]\n",
    "instruments = [\n",
    "    [\"Trombone\", \"Bass_Tuba\", \"Horn\", \"Trumpet_C\"],\n",
    "    [\"Accordion\"],\n",
    "    [\"Violin\", \"Contrabass\", \"Viola\", \"Violoncello\"],\n",
    "    [\"Flute\", \"Bassoon\", \"Clarinet_Bb\", \"Flute\", \"Oboe\", \"Sax_Alto\"]\n",
    "]\n",
    "\n",
    "instruments_df = []\n",
    "\n",
    "\n",
    "for instrument_type, s_instrument in zip(instruments_type, instruments):\n",
    "    for instrument in s_instrument:\n",
    "        full_path = os.path.join(base_path, instrument_type, instrument, \"ordinario/\")\n",
    "        note_value = []\n",
    "        qct_frequencies_per_note = []\n",
    "\n",
    "        df_instrument = {\n",
    "            'instrument_name': instrument\n",
    "        }\n",
    "        print(full_path)\n",
    "        \n",
    "        for file in os.listdir(full_path):\n",
    "            if file.endswith(\".wav\"):\n",
    "                note = file.split('-')[2]\n",
    "                wav_path = os.path.join(full_path, file)\n",
    "                y, sr = librosa.load(wav_path, sr=None)\n",
    "                cqt = librosa.cqt(y, sr=sr, n_bins=84, bins_per_octave=12)\n",
    "\n",
    "                cqt_db = librosa.amplitude_to_db(np.abs(cqt), ref=np.max)\n",
    "\n",
    "                frequencies = librosa.cqt_frequencies(n_bins=84, fmin=librosa.note_to_hz('C2'))\n",
    "                top_indices = np.argsort(np.mean(cqt_db, axis=1))[::-1][:12]\n",
    "                top_frequencies = frequencies[top_indices]\n",
    "\n",
    "                note_value.append(note)\n",
    "                qct_frequencies_per_note.append(top_frequencies)\n",
    "\n",
    "        df_instrument['note'] = note_value\n",
    "        df_instrument['frequencies'] = qct_frequencies_per_note\n",
    "        df_instrument = pd.DataFrame(df_instrument)\n",
    "        instruments_df.append(df_instrument)\n",
    "\n",
    "instruments_df = pd.concat(instruments_df, ignore_index=True)\n"
   ]
  },
  {
   "cell_type": "markdown",
   "metadata": {},
   "source": [
    "# Saving dataframe as jsonl"
   ]
  },
  {
   "cell_type": "code",
   "execution_count": 242,
   "metadata": {},
   "outputs": [],
   "source": [
    "instruments_df.to_json('dataset/dataset.jsonl', orient='records', lines=True)"
   ]
  },
  {
   "cell_type": "markdown",
   "metadata": {},
   "source": [
    "# Load dataset"
   ]
  },
  {
   "cell_type": "code",
   "execution_count": 264,
   "metadata": {},
   "outputs": [
    {
     "data": {
      "application/vnd.microsoft.datawrangler.viewer.v0+json": {
       "columns": [
        {
         "name": "index",
         "rawType": "int64",
         "type": "integer"
        },
        {
         "name": "instrument_name",
         "rawType": "object",
         "type": "string"
        },
        {
         "name": "note",
         "rawType": "object",
         "type": "string"
        },
        {
         "name": "frequencies",
         "rawType": "object",
         "type": "unknown"
        }
       ],
       "conversionMethod": "pd.DataFrame",
       "ref": "d5dec71f-1083-48b3-b4d5-004f5fb3fbb5",
       "rows": [
        [
         "0",
         "Trombone",
         "A#1",
         "[932.3275230362, 1244.5079348883, 830.6093951599, 1396.912925732, 1318.5102276515, 1661.2187903198, 783.9908719635, 1174.6590716696, 1046.5022612024, 1567.981743927, 1479.9776908465, 466.1637615181]"
        ],
        [
         "1",
         "Trombone",
         "A#1",
         "[932.3275230362, 830.6093951599, 466.1637615181, 1396.912925732, 1244.5079348883, 349.228231433, 783.9908719635, 1174.6590716696, 1046.5022612024, 1661.2187903198, 698.456462866]"
        ],
        [
         "2",
         "Trombone",
         "A#1",
         "[830.6093951599, 932.3275230362, 466.1637615181, 349.228231433, 116.5409403795, 783.9908719635, 233.081880759, 1244.5079348883, 1318.5102276515, 587.3295358348, 1174.6590716696, 698.456462866]"
        ],
        [
         "3",
         "Trombone",
         "A#2",
         "[932.3275230362, 1396.912925732, 466.1637615181, 1174.6590716696, 1661.2187903198, 698.456462866, 1567.981743927, 987.7666025122, 1479.9776908465, 880.0, 1864.6550460724, 1108.7305239075]"
        ],
        [
         "4",
         "Trombone",
         "A#2",
         "[932.3275230362, 466.1637615181, 1396.912925732, 1174.6590716696, 698.456462866, 1661.2187903198, 987.7666025122, 233.081880759, 493.8833012561, 880.0, 1479.9776908465, 1567.981743927]"
        ]
       ],
       "shape": {
        "columns": 3,
        "rows": 5
       }
      },
      "text/html": [
       "<div>\n",
       "<style scoped>\n",
       "    .dataframe tbody tr th:only-of-type {\n",
       "        vertical-align: middle;\n",
       "    }\n",
       "\n",
       "    .dataframe tbody tr th {\n",
       "        vertical-align: top;\n",
       "    }\n",
       "\n",
       "    .dataframe thead th {\n",
       "        text-align: right;\n",
       "    }\n",
       "</style>\n",
       "<table border=\"1\" class=\"dataframe\">\n",
       "  <thead>\n",
       "    <tr style=\"text-align: right;\">\n",
       "      <th></th>\n",
       "      <th>instrument_name</th>\n",
       "      <th>note</th>\n",
       "      <th>frequencies</th>\n",
       "    </tr>\n",
       "  </thead>\n",
       "  <tbody>\n",
       "    <tr>\n",
       "      <th>0</th>\n",
       "      <td>Trombone</td>\n",
       "      <td>A#1</td>\n",
       "      <td>[932.3275230362, 1244.5079348883, 830.60939515...</td>\n",
       "    </tr>\n",
       "    <tr>\n",
       "      <th>1</th>\n",
       "      <td>Trombone</td>\n",
       "      <td>A#1</td>\n",
       "      <td>[932.3275230362, 830.6093951599, 466.163761518...</td>\n",
       "    </tr>\n",
       "    <tr>\n",
       "      <th>2</th>\n",
       "      <td>Trombone</td>\n",
       "      <td>A#1</td>\n",
       "      <td>[830.6093951599, 932.3275230362, 466.163761518...</td>\n",
       "    </tr>\n",
       "    <tr>\n",
       "      <th>3</th>\n",
       "      <td>Trombone</td>\n",
       "      <td>A#2</td>\n",
       "      <td>[932.3275230362, 1396.912925732, 466.163761518...</td>\n",
       "    </tr>\n",
       "    <tr>\n",
       "      <th>4</th>\n",
       "      <td>Trombone</td>\n",
       "      <td>A#2</td>\n",
       "      <td>[932.3275230362, 466.1637615181, 1396.91292573...</td>\n",
       "    </tr>\n",
       "  </tbody>\n",
       "</table>\n",
       "</div>"
      ],
      "text/plain": [
       "  instrument_name note                                        frequencies\n",
       "0        Trombone  A#1  [932.3275230362, 1244.5079348883, 830.60939515...\n",
       "1        Trombone  A#1  [932.3275230362, 830.6093951599, 466.163761518...\n",
       "2        Trombone  A#1  [830.6093951599, 932.3275230362, 466.163761518...\n",
       "3        Trombone  A#2  [932.3275230362, 1396.912925732, 466.163761518...\n",
       "4        Trombone  A#2  [932.3275230362, 466.1637615181, 1396.91292573..."
      ]
     },
     "execution_count": 264,
     "metadata": {},
     "output_type": "execute_result"
    }
   ],
   "source": [
    "instruments_df = pd.read_json('dataset/dataset.jsonl', lines=True)\n",
    "\n",
    "instruments_df.head()"
   ]
  },
  {
   "cell_type": "markdown",
   "metadata": {},
   "source": [
    "# Processing dataset\n",
    "1. Processing missing datas\n",
    "2. Data Augmentation\n",
    "3. Balance in terms of instruments "
   ]
  },
  {
   "cell_type": "code",
   "execution_count": 265,
   "metadata": {},
   "outputs": [
    {
     "name": "stdout",
     "output_type": "stream",
     "text": [
      "instrument_name\n",
      "Accordion      689\n",
      "Contrabass     309\n",
      "Viola          309\n",
      "Violoncello    291\n",
      "Violin         284\n",
      "Flute          236\n",
      "Horn           134\n",
      "Bassoon        126\n",
      "Clarinet_Bb    126\n",
      "Trombone       117\n",
      "Bass_Tuba      108\n",
      "Oboe           107\n",
      "Sax_Alto        99\n",
      "Trumpet_C       96\n",
      "Name: count, dtype: int64\n"
     ]
    }
   ],
   "source": [
    "print(instruments_df[\"instrument_name\"].value_counts())"
   ]
  },
  {
   "cell_type": "code",
   "execution_count": 266,
   "metadata": {},
   "outputs": [],
   "source": [
    "def fix_missing_frequencies(frequencies):\n",
    "    \"\"\"Funçao responsavel por corrigir as frequências faltantes.\"\"\"\n",
    "    freqs = frequencies.copy()\n",
    "\n",
    "    if len(freqs) < 12:\n",
    "        # Preencher com a média harmônica das existentes\n",
    "        harmonic_mean = len(freqs) / sum(1/f for f in freqs if f > 0)\n",
    "        freqs.extend([harmonic_mean * (1 + 0.05*i) for i in range(12 - len(freqs))])\n",
    "        print(\"Achou faltando frequencias\")\n",
    "\n",
    "    if len(freqs) > 12:\n",
    "        # Truncar a lista para manter apenas as 12 frequências mais altas\n",
    "        freqs = freqs[:12]\n",
    "        print(\"Achou sobrando frequencias\")\n",
    "    return frequencies"
   ]
  },
  {
   "cell_type": "code",
   "execution_count": 267,
   "metadata": {},
   "outputs": [
    {
     "name": "stdout",
     "output_type": "stream",
     "text": [
      "Achou faltando frequencias\n",
      "Achou faltando frequencias\n",
      "Achou faltando frequencias\n"
     ]
    }
   ],
   "source": [
    "instruments_df['frequencies'] = instruments_df['frequencies'].apply(fix_missing_frequencies)"
   ]
  },
  {
   "cell_type": "code",
   "execution_count": 268,
   "metadata": {},
   "outputs": [],
   "source": [
    "def balance_dataset(df, target_count=600):\n",
    "    # Separar classes\n",
    "    class_counts = df['instrument_name'].value_counts()\n",
    "    \n",
    "    # Classes > target_count serão reduzidas\n",
    "    over_classes = class_counts[class_counts > target_count].index.tolist()\n",
    "    \n",
    "    # Classes <= targe_count serão aumentadas ou mantidas\n",
    "    under_classes = class_counts[class_counts <= target_count].index.tolist()\n",
    "    \n",
    "    dfs = []\n",
    "    \n",
    "    # 1. Redução das classes maiores (undersampling)\n",
    "    for cls in over_classes:\n",
    "        sampled = df[df['instrument_name'] == cls].sample(target_count, random_state=42)\n",
    "        dfs.append(sampled)\n",
    "    \n",
    "    # 2. Aumento das classes menores (oversampling + augmentation)\n",
    "    for cls in under_classes:\n",
    "        class_df = df[df['instrument_name'] == cls]\n",
    "        current_count = len(class_df)\n",
    "        \n",
    "        if current_count < target_count:\n",
    "            # Gerar amostras artificiais\n",
    "            augmented = class_df.copy()\n",
    "            while len(augmented) < target_count:\n",
    "                # Técnica de augmentation para frequências\n",
    "                new_sample = class_df.sample(1).copy()\n",
    "                new_sample['frequencies'] = new_sample['frequencies'].apply(\n",
    "                    lambda freqs: [f * np.random.uniform(0.98, 1.02) for f in freqs]  # ±2% de variação\n",
    "                )\n",
    "                augmented = pd.concat([augmented, new_sample])\n",
    "            \n",
    "            dfs.append(augmented.sample(target_count, random_state=42))\n",
    "        else:\n",
    "            dfs.append(class_df)\n",
    "    \n",
    "    return pd.concat(dfs, ignore_index=True).sample(frac=1, random_state=42)  # Shuffle final"
   ]
  },
  {
   "cell_type": "code",
   "execution_count": 269,
   "metadata": {},
   "outputs": [
    {
     "data": {
      "text/plain": [
       "instrument_name\n",
       "Accordion      600\n",
       "Clarinet_Bb    600\n",
       "Flute          600\n",
       "Bassoon        600\n",
       "Trombone       600\n",
       "Viola          600\n",
       "Sax_Alto       600\n",
       "Horn           600\n",
       "Trumpet_C      600\n",
       "Contrabass     600\n",
       "Violin         600\n",
       "Oboe           600\n",
       "Violoncello    600\n",
       "Bass_Tuba      600\n",
       "Name: count, dtype: int64"
      ]
     },
     "execution_count": 269,
     "metadata": {},
     "output_type": "execute_result"
    }
   ],
   "source": [
    "df_balanced = balance_dataset(instruments_df)\n",
    "df_balanced['instrument_name'].value_counts()"
   ]
  },
  {
   "cell_type": "markdown",
   "metadata": {},
   "source": [
    "## Aux Functions"
   ]
  },
  {
   "cell_type": "code",
   "execution_count": 272,
   "metadata": {},
   "outputs": [],
   "source": [
    "def get_enhanced_features(frequencies):\n",
    "    \"\"\"\n",
    "    Função ampliada para extração de features\n",
    "    log_mean: Calcula a media logaritmica das frequências\n",
    "    skewness: Medida de assimetria das frequências\n",
    "    kurtosis: Medida de achatamento das frequências\n",
    "    harmonic_mean: Média harmônica das frequências\n",
    "    harmonic_std: Desvio padrão harmônico das frequências\n",
    "    n_harmonics: Número de harmônicos\n",
    "    freq_0, freq_1, ..., freq_11: Frequências individuais\n",
    "    \"\"\"\n",
    "\n",
    "    freq = sorted([float(f) for f in frequencies])\n",
    "    fundamental = freq[0] if len(freq) > 0 else 0\n",
    "    \n",
    "    # Features básicas\n",
    "    stats = {\n",
    "        'log_mean': np.log(np.mean(freq)) if np.mean(freq) > 0 else 0,\n",
    "        'skewness': skew(freq) if len(freq) > 2 else 0,\n",
    "        'kurtosis': kurtosis(freq) if len(freq) > 3 else 0\n",
    "    }\n",
    "    \n",
    "    # Features harmônicas\n",
    "\n",
    "    harmonics = [f/fundamental for f in freq[1:] if f > 0]\n",
    "    stats.update({\n",
    "        'harmonic_mean': np.mean(harmonics) if harmonics else 0,\n",
    "        'harmonic_std': np.std(harmonics) if harmonics else 0,\n",
    "        'n_harmonics': len(harmonics)\n",
    "    })\n",
    "\n",
    "    # Adiciona as 12 frequências originais como features individuais\n",
    "    for i in range(12):\n",
    "        stats[f'freq_{i}'] = freq[i] if i < len(freq) else 0\n",
    "        \n",
    "    return stats\n",
    "    \n",
    "\n",
    "\n",
    "def create_features_instruments(df):\n",
    "    \"\"\"\n",
    "    Processa um DataFrame com colunas: instrument_name, note, frequencies\n",
    "    Retorna features estatísticas e o target codificado\n",
    "    \n",
    "    Parâmetros:\n",
    "    df : DataFrame com colunas ['instrument_name', 'note', 'frequencies']\n",
    "    \n",
    "    Retorna:\n",
    "    X : DataFrame com features\n",
    "    y : Série com target codificado\n",
    "    le : LabelEncoder ajustado\n",
    "    \"\"\"\n",
    "\n",
    "    # Extração de features\n",
    "    df_stats = df[\"frequencies\"].apply(get_enhanced_features).apply(pd.Series)\n",
    "    \n",
    "    # Junção com os dados originais\n",
    "    df = pd.concat([df, df_stats], axis=1).dropna()\n",
    "    \n",
    "    # Codificação do target\n",
    "    le = LabelEncoder()\n",
    "    df[\"instrument_encoded\"] = le.fit_transform(df[\"instrument_name\"])\n",
    "    \n",
    "    # Seleção automática de features numéricas\n",
    "    numeric_cols = df.select_dtypes(include=[np.number]).columns.tolist()\n",
    "    features = [col for col in numeric_cols if col not in ['instrument_encoded']]\n",
    "    \n",
    "    return df[features], df[\"instrument_encoded\"], le"
   ]
  },
  {
   "cell_type": "markdown",
   "metadata": {},
   "source": [
    "## Training the models "
   ]
  },
  {
   "cell_type": "code",
   "execution_count": 273,
   "metadata": {},
   "outputs": [
    {
     "name": "stdout",
     "output_type": "stream",
     "text": [
      "X shape: (8400, 18)\n",
      "y shape: (8400,)\n",
      "Modelo: Random Forest\n",
      "Acurácia validaçao: 0.7595\n",
      "------------------------------\n",
      "Modelo: Decision Tree\n",
      "Acurácia validaçao: 0.6774\n",
      "------------------------------\n",
      "Modelo: Logistic Regression\n",
      "Acurácia validaçao: 0.3869\n",
      "------------------------------\n",
      "Modelo: SVM\n",
      "Acurácia validaçao: 0.4494\n",
      "------------------------------\n"
     ]
    }
   ],
   "source": [
    "\n",
    "X, y, le = create_features_instruments(df_balanced)\n",
    "print(f\"X shape: {X.shape}\")\n",
    "print(f\"y shape: {y.shape}\")\n",
    "\n",
    "# Divisão em treino (60%), validação (20%) e teste (20%)\n",
    "X_train, X_temp, y_train, y_temp = train_test_split(X, y, test_size=0.4, random_state=42)\n",
    "X_val, X_test, y_val, y_test = train_test_split(X_temp, y_temp, test_size=0.5, random_state=42)\n",
    "\n",
    "\n",
    "# Normalização\n",
    "scaler = StandardScaler()\n",
    "X_train = scaler.fit_transform(X_train)\n",
    "X_val = scaler.transform(X_val)\n",
    "X_test = scaler.transform(X_test)\n",
    "\n",
    "# Lista de modelos\n",
    "modelos = {\n",
    "    \"Random Forest\": RandomForestClassifier(),\n",
    "    \"Decision Tree\": DecisionTreeClassifier(),\n",
    "    \"Logistic Regression\": LogisticRegression(max_iter=1000),\n",
    "    \"SVM\": SVC(),\n",
    "}\n",
    "\n",
    "# Rodar todos\n",
    "for nome, modelo in modelos.items():\n",
    "    modelo.fit(X_train, y_train)\n",
    "    y_pred = modelo.predict(X_val)\n",
    "    acc = accuracy_score(y_val, y_pred)\n",
    "    print(f\"Modelo: {nome}\")\n",
    "    print(f\"Acurácia validaçao: {acc:.4f}\")\n",
    "    print(\"-\" * 30)\n"
   ]
  },
  {
   "cell_type": "markdown",
   "metadata": {},
   "source": [
    "# Choose Random Forest, and gets the best params"
   ]
  },
  {
   "cell_type": "code",
   "execution_count": 274,
   "metadata": {},
   "outputs": [
    {
     "name": "stdout",
     "output_type": "stream",
     "text": [
      "Fitting 5 folds for each of 20 candidates, totalling 100 fits\n",
      "Melhores hiperparâmetros: {'max_depth': None, 'min_samples_leaf': 1, 'min_samples_split': 2, 'n_estimators': 108}\n"
     ]
    }
   ],
   "source": [
    "\n",
    "param_dist = {\n",
    "    'n_estimators': randint(50, 200),\n",
    "    'max_depth': [None, 10, 20],\n",
    "    'min_samples_split': [2, 5, 10],\n",
    "    'min_samples_leaf': [1, 2, 4],\n",
    "}\n",
    "\n",
    "random_search = RandomizedSearchCV(\n",
    "    estimator=RandomForestClassifier(),\n",
    "    param_distributions=param_dist,\n",
    "    n_iter=20,  # quantas combinações testar\n",
    "    cv=5,\n",
    "    scoring='accuracy',\n",
    "    n_jobs=-1,\n",
    "    random_state=42,\n",
    "    verbose=1\n",
    ")\n",
    "\n",
    "random_search.fit(X_train, y_train)\n",
    "print(\"Melhores hiperparâmetros:\", random_search.best_params_)"
   ]
  },
  {
   "cell_type": "code",
   "execution_count": 275,
   "metadata": {},
   "outputs": [
    {
     "name": "stdout",
     "output_type": "stream",
     "text": [
      "Validação:\n",
      "               precision    recall  f1-score   support\n",
      "\n",
      "           0       0.92      0.59      0.72       133\n",
      "           1       0.83      0.84      0.83       117\n",
      "           2       0.84      0.76      0.80       115\n",
      "           3       0.84      0.81      0.82       124\n",
      "           4       0.94      0.88      0.91       115\n",
      "           5       0.76      0.81      0.78       131\n",
      "           6       0.69      0.67      0.68       115\n",
      "           7       0.74      0.83      0.78       111\n",
      "           8       0.87      0.82      0.84       129\n",
      "           9       0.62      0.77      0.69       119\n",
      "          10       0.58      0.73      0.65       116\n",
      "          11       0.79      0.68      0.73       129\n",
      "          12       0.73      0.79      0.76       112\n",
      "          13       0.67      0.70      0.69       114\n",
      "\n",
      "    accuracy                           0.76      1680\n",
      "   macro avg       0.77      0.76      0.76      1680\n",
      "weighted avg       0.77      0.76      0.76      1680\n",
      "\n",
      "Teste:\n",
      "               precision    recall  f1-score   support\n",
      "\n",
      "           0       0.76      0.56      0.65       117\n",
      "           1       0.85      0.83      0.84        99\n",
      "           2       0.86      0.67      0.75       132\n",
      "           3       0.88      0.80      0.84       110\n",
      "           4       0.89      0.84      0.87       140\n",
      "           5       0.75      0.69      0.72       119\n",
      "           6       0.75      0.75      0.75       130\n",
      "           7       0.79      0.79      0.79       121\n",
      "           8       0.81      0.89      0.84       107\n",
      "           9       0.68      0.83      0.74       128\n",
      "          10       0.60      0.76      0.67       111\n",
      "          11       0.72      0.78      0.75       106\n",
      "          12       0.75      0.76      0.75       132\n",
      "          13       0.69      0.75      0.72       128\n",
      "\n",
      "    accuracy                           0.76      1680\n",
      "   macro avg       0.77      0.76      0.76      1680\n",
      "weighted avg       0.77      0.76      0.76      1680\n",
      "\n"
     ]
    }
   ],
   "source": [
    "# Para validação\n",
    "y_val_pred = random_search.predict(X_val)\n",
    "print(\"Validação:\\n\", classification_report(y_val, y_val_pred))\n",
    "\n",
    "# Para teste\n",
    "y_test_pred = random_search.predict(X_test)\n",
    "print(\"Teste:\\n\", classification_report(y_test, y_test_pred))\n"
   ]
  },
  {
   "cell_type": "code",
   "execution_count": 276,
   "metadata": {},
   "outputs": [
    {
     "name": "stdout",
     "output_type": "stream",
     "text": [
      "num_classes: 14\n",
      "Epoch 1/100\n"
     ]
    },
    {
     "name": "stderr",
     "output_type": "stream",
     "text": [
      "/home/leandrobandeira/Documentos/UFPB/IdentificadorAcorde/.venv/lib64/python3.12/site-packages/keras/src/layers/core/dense.py:87: UserWarning: Do not pass an `input_shape`/`input_dim` argument to a layer. When using Sequential models, prefer using an `Input(shape)` object as the first layer in the model instead.\n",
      "  super().__init__(activity_regularizer=activity_regularizer, **kwargs)\n"
     ]
    },
    {
     "name": "stdout",
     "output_type": "stream",
     "text": [
      "\u001b[1m158/158\u001b[0m \u001b[32m━━━━━━━━━━━━━━━━━━━━\u001b[0m\u001b[37m\u001b[0m \u001b[1m1s\u001b[0m 2ms/step - accuracy: 0.1443 - loss: 2.5291 - val_accuracy: 0.2488 - val_loss: 2.1562\n",
      "Epoch 2/100\n",
      "\u001b[1m158/158\u001b[0m \u001b[32m━━━━━━━━━━━━━━━━━━━━\u001b[0m\u001b[37m\u001b[0m \u001b[1m0s\u001b[0m 1ms/step - accuracy: 0.2351 - loss: 2.1465 - val_accuracy: 0.2952 - val_loss: 1.9778\n",
      "Epoch 3/100\n",
      "\u001b[1m158/158\u001b[0m \u001b[32m━━━━━━━━━━━━━━━━━━━━\u001b[0m\u001b[37m\u001b[0m \u001b[1m0s\u001b[0m 1ms/step - accuracy: 0.2796 - loss: 2.0156 - val_accuracy: 0.3423 - val_loss: 1.8605\n",
      "Epoch 4/100\n",
      "\u001b[1m158/158\u001b[0m \u001b[32m━━━━━━━━━━━━━━━━━━━━\u001b[0m\u001b[37m\u001b[0m \u001b[1m0s\u001b[0m 1ms/step - accuracy: 0.2988 - loss: 1.9318 - val_accuracy: 0.3464 - val_loss: 1.7902\n",
      "Epoch 5/100\n",
      "\u001b[1m158/158\u001b[0m \u001b[32m━━━━━━━━━━━━━━━━━━━━\u001b[0m\u001b[37m\u001b[0m \u001b[1m0s\u001b[0m 1ms/step - accuracy: 0.3212 - loss: 1.8701 - val_accuracy: 0.3685 - val_loss: 1.7613\n",
      "Epoch 6/100\n",
      "\u001b[1m158/158\u001b[0m \u001b[32m━━━━━━━━━━━━━━━━━━━━\u001b[0m\u001b[37m\u001b[0m \u001b[1m0s\u001b[0m 1ms/step - accuracy: 0.3443 - loss: 1.7984 - val_accuracy: 0.3744 - val_loss: 1.7319\n",
      "Epoch 7/100\n",
      "\u001b[1m158/158\u001b[0m \u001b[32m━━━━━━━━━━━━━━━━━━━━\u001b[0m\u001b[37m\u001b[0m \u001b[1m0s\u001b[0m 1ms/step - accuracy: 0.3546 - loss: 1.7992 - val_accuracy: 0.3940 - val_loss: 1.7061\n",
      "Epoch 8/100\n",
      "\u001b[1m158/158\u001b[0m \u001b[32m━━━━━━━━━━━━━━━━━━━━\u001b[0m\u001b[37m\u001b[0m \u001b[1m0s\u001b[0m 1ms/step - accuracy: 0.3866 - loss: 1.7284 - val_accuracy: 0.3869 - val_loss: 1.6812\n",
      "Epoch 9/100\n",
      "\u001b[1m158/158\u001b[0m \u001b[32m━━━━━━━━━━━━━━━━━━━━\u001b[0m\u001b[37m\u001b[0m \u001b[1m0s\u001b[0m 1ms/step - accuracy: 0.3787 - loss: 1.7234 - val_accuracy: 0.3964 - val_loss: 1.6537\n",
      "Epoch 10/100\n",
      "\u001b[1m158/158\u001b[0m \u001b[32m━━━━━━━━━━━━━━━━━━━━\u001b[0m\u001b[37m\u001b[0m \u001b[1m0s\u001b[0m 1ms/step - accuracy: 0.3894 - loss: 1.6821 - val_accuracy: 0.3887 - val_loss: 1.6573\n",
      "Epoch 11/100\n",
      "\u001b[1m158/158\u001b[0m \u001b[32m━━━━━━━━━━━━━━━━━━━━\u001b[0m\u001b[37m\u001b[0m \u001b[1m0s\u001b[0m 1ms/step - accuracy: 0.3797 - loss: 1.7032 - val_accuracy: 0.4137 - val_loss: 1.6194\n",
      "Epoch 12/100\n",
      "\u001b[1m158/158\u001b[0m \u001b[32m━━━━━━━━━━━━━━━━━━━━\u001b[0m\u001b[37m\u001b[0m \u001b[1m0s\u001b[0m 1ms/step - accuracy: 0.3875 - loss: 1.6864 - val_accuracy: 0.4054 - val_loss: 1.6012\n",
      "Epoch 13/100\n",
      "\u001b[1m158/158\u001b[0m \u001b[32m━━━━━━━━━━━━━━━━━━━━\u001b[0m\u001b[37m\u001b[0m \u001b[1m0s\u001b[0m 1ms/step - accuracy: 0.3913 - loss: 1.6452 - val_accuracy: 0.4048 - val_loss: 1.5966\n",
      "Epoch 14/100\n",
      "\u001b[1m158/158\u001b[0m \u001b[32m━━━━━━━━━━━━━━━━━━━━\u001b[0m\u001b[37m\u001b[0m \u001b[1m0s\u001b[0m 1ms/step - accuracy: 0.4056 - loss: 1.6402 - val_accuracy: 0.4089 - val_loss: 1.5742\n",
      "Epoch 15/100\n",
      "\u001b[1m158/158\u001b[0m \u001b[32m━━━━━━━━━━━━━━━━━━━━\u001b[0m\u001b[37m\u001b[0m \u001b[1m0s\u001b[0m 1ms/step - accuracy: 0.4208 - loss: 1.5940 - val_accuracy: 0.4304 - val_loss: 1.5486\n",
      "Epoch 16/100\n",
      "\u001b[1m158/158\u001b[0m \u001b[32m━━━━━━━━━━━━━━━━━━━━\u001b[0m\u001b[37m\u001b[0m \u001b[1m0s\u001b[0m 1ms/step - accuracy: 0.4014 - loss: 1.6366 - val_accuracy: 0.4232 - val_loss: 1.5355\n",
      "Epoch 17/100\n",
      "\u001b[1m158/158\u001b[0m \u001b[32m━━━━━━━━━━━━━━━━━━━━\u001b[0m\u001b[37m\u001b[0m \u001b[1m0s\u001b[0m 1ms/step - accuracy: 0.4201 - loss: 1.6221 - val_accuracy: 0.4518 - val_loss: 1.5269\n",
      "Epoch 18/100\n",
      "\u001b[1m158/158\u001b[0m \u001b[32m━━━━━━━━━━━━━━━━━━━━\u001b[0m\u001b[37m\u001b[0m \u001b[1m0s\u001b[0m 1ms/step - accuracy: 0.3960 - loss: 1.6195 - val_accuracy: 0.4548 - val_loss: 1.5189\n",
      "Epoch 19/100\n",
      "\u001b[1m158/158\u001b[0m \u001b[32m━━━━━━━━━━━━━━━━━━━━\u001b[0m\u001b[37m\u001b[0m \u001b[1m0s\u001b[0m 1ms/step - accuracy: 0.4267 - loss: 1.5710 - val_accuracy: 0.4387 - val_loss: 1.5050\n",
      "Epoch 20/100\n",
      "\u001b[1m158/158\u001b[0m \u001b[32m━━━━━━━━━━━━━━━━━━━━\u001b[0m\u001b[37m\u001b[0m \u001b[1m0s\u001b[0m 1ms/step - accuracy: 0.4493 - loss: 1.5461 - val_accuracy: 0.4345 - val_loss: 1.5223\n",
      "Epoch 21/100\n",
      "\u001b[1m158/158\u001b[0m \u001b[32m━━━━━━━━━━━━━━━━━━━━\u001b[0m\u001b[37m\u001b[0m \u001b[1m0s\u001b[0m 1ms/step - accuracy: 0.4416 - loss: 1.5788 - val_accuracy: 0.4655 - val_loss: 1.4804\n",
      "Epoch 22/100\n",
      "\u001b[1m158/158\u001b[0m \u001b[32m━━━━━━━━━━━━━━━━━━━━\u001b[0m\u001b[37m\u001b[0m \u001b[1m0s\u001b[0m 1ms/step - accuracy: 0.4395 - loss: 1.5399 - val_accuracy: 0.4536 - val_loss: 1.4704\n",
      "Epoch 23/100\n",
      "\u001b[1m158/158\u001b[0m \u001b[32m━━━━━━━━━━━━━━━━━━━━\u001b[0m\u001b[37m\u001b[0m \u001b[1m0s\u001b[0m 1ms/step - accuracy: 0.4420 - loss: 1.5440 - val_accuracy: 0.4851 - val_loss: 1.4648\n",
      "Epoch 24/100\n",
      "\u001b[1m158/158\u001b[0m \u001b[32m━━━━━━━━━━━━━━━━━━━━\u001b[0m\u001b[37m\u001b[0m \u001b[1m0s\u001b[0m 1ms/step - accuracy: 0.4213 - loss: 1.5404 - val_accuracy: 0.4583 - val_loss: 1.4846\n",
      "Epoch 25/100\n",
      "\u001b[1m158/158\u001b[0m \u001b[32m━━━━━━━━━━━━━━━━━━━━\u001b[0m\u001b[37m\u001b[0m \u001b[1m0s\u001b[0m 1ms/step - accuracy: 0.4461 - loss: 1.5038 - val_accuracy: 0.4810 - val_loss: 1.4435\n",
      "Epoch 26/100\n",
      "\u001b[1m158/158\u001b[0m \u001b[32m━━━━━━━━━━━━━━━━━━━━\u001b[0m\u001b[37m\u001b[0m \u001b[1m0s\u001b[0m 1ms/step - accuracy: 0.4602 - loss: 1.4980 - val_accuracy: 0.4827 - val_loss: 1.4362\n",
      "Epoch 27/100\n",
      "\u001b[1m158/158\u001b[0m \u001b[32m━━━━━━━━━━━━━━━━━━━━\u001b[0m\u001b[37m\u001b[0m \u001b[1m0s\u001b[0m 1ms/step - accuracy: 0.4504 - loss: 1.5173 - val_accuracy: 0.4946 - val_loss: 1.4225\n",
      "Epoch 28/100\n",
      "\u001b[1m158/158\u001b[0m \u001b[32m━━━━━━━━━━━━━━━━━━━━\u001b[0m\u001b[37m\u001b[0m \u001b[1m0s\u001b[0m 1ms/step - accuracy: 0.4656 - loss: 1.4674 - val_accuracy: 0.4851 - val_loss: 1.4328\n",
      "Epoch 29/100\n",
      "\u001b[1m158/158\u001b[0m \u001b[32m━━━━━━━━━━━━━━━━━━━━\u001b[0m\u001b[37m\u001b[0m \u001b[1m0s\u001b[0m 1ms/step - accuracy: 0.4614 - loss: 1.4666 - val_accuracy: 0.5006 - val_loss: 1.4100\n",
      "Epoch 30/100\n",
      "\u001b[1m158/158\u001b[0m \u001b[32m━━━━━━━━━━━━━━━━━━━━\u001b[0m\u001b[37m\u001b[0m \u001b[1m0s\u001b[0m 1ms/step - accuracy: 0.4580 - loss: 1.4596 - val_accuracy: 0.5018 - val_loss: 1.4253\n",
      "Epoch 31/100\n",
      "\u001b[1m158/158\u001b[0m \u001b[32m━━━━━━━━━━━━━━━━━━━━\u001b[0m\u001b[37m\u001b[0m \u001b[1m0s\u001b[0m 1ms/step - accuracy: 0.4507 - loss: 1.5060 - val_accuracy: 0.4893 - val_loss: 1.4040\n",
      "Epoch 32/100\n",
      "\u001b[1m158/158\u001b[0m \u001b[32m━━━━━━━━━━━━━━━━━━━━\u001b[0m\u001b[37m\u001b[0m \u001b[1m0s\u001b[0m 1ms/step - accuracy: 0.4659 - loss: 1.4886 - val_accuracy: 0.4887 - val_loss: 1.4012\n",
      "Epoch 33/100\n",
      "\u001b[1m158/158\u001b[0m \u001b[32m━━━━━━━━━━━━━━━━━━━━\u001b[0m\u001b[37m\u001b[0m \u001b[1m0s\u001b[0m 1ms/step - accuracy: 0.4771 - loss: 1.4423 - val_accuracy: 0.4935 - val_loss: 1.3976\n",
      "Epoch 34/100\n",
      "\u001b[1m158/158\u001b[0m \u001b[32m━━━━━━━━━━━━━━━━━━━━\u001b[0m\u001b[37m\u001b[0m \u001b[1m0s\u001b[0m 1ms/step - accuracy: 0.4642 - loss: 1.4573 - val_accuracy: 0.4887 - val_loss: 1.3931\n",
      "Epoch 35/100\n",
      "\u001b[1m158/158\u001b[0m \u001b[32m━━━━━━━━━━━━━━━━━━━━\u001b[0m\u001b[37m\u001b[0m \u001b[1m0s\u001b[0m 1ms/step - accuracy: 0.4734 - loss: 1.4527 - val_accuracy: 0.5065 - val_loss: 1.3746\n",
      "Epoch 36/100\n",
      "\u001b[1m158/158\u001b[0m \u001b[32m━━━━━━━━━━━━━━━━━━━━\u001b[0m\u001b[37m\u001b[0m \u001b[1m0s\u001b[0m 1ms/step - accuracy: 0.4776 - loss: 1.4438 - val_accuracy: 0.5060 - val_loss: 1.3679\n",
      "Epoch 37/100\n",
      "\u001b[1m158/158\u001b[0m \u001b[32m━━━━━━━━━━━━━━━━━━━━\u001b[0m\u001b[37m\u001b[0m \u001b[1m0s\u001b[0m 1ms/step - accuracy: 0.4763 - loss: 1.4393 - val_accuracy: 0.5030 - val_loss: 1.3801\n",
      "Epoch 38/100\n",
      "\u001b[1m158/158\u001b[0m \u001b[32m━━━━━━━━━━━━━━━━━━━━\u001b[0m\u001b[37m\u001b[0m \u001b[1m0s\u001b[0m 1ms/step - accuracy: 0.4634 - loss: 1.4562 - val_accuracy: 0.5274 - val_loss: 1.3521\n",
      "Epoch 39/100\n",
      "\u001b[1m158/158\u001b[0m \u001b[32m━━━━━━━━━━━━━━━━━━━━\u001b[0m\u001b[37m\u001b[0m \u001b[1m0s\u001b[0m 1ms/step - accuracy: 0.4845 - loss: 1.4126 - val_accuracy: 0.5143 - val_loss: 1.3630\n",
      "Epoch 40/100\n",
      "\u001b[1m158/158\u001b[0m \u001b[32m━━━━━━━━━━━━━━━━━━━━\u001b[0m\u001b[37m\u001b[0m \u001b[1m0s\u001b[0m 1ms/step - accuracy: 0.4742 - loss: 1.4056 - val_accuracy: 0.5095 - val_loss: 1.3543\n",
      "Epoch 41/100\n",
      "\u001b[1m158/158\u001b[0m \u001b[32m━━━━━━━━━━━━━━━━━━━━\u001b[0m\u001b[37m\u001b[0m \u001b[1m0s\u001b[0m 1ms/step - accuracy: 0.4893 - loss: 1.4086 - val_accuracy: 0.5101 - val_loss: 1.3448\n",
      "Epoch 42/100\n",
      "\u001b[1m158/158\u001b[0m \u001b[32m━━━━━━━━━━━━━━━━━━━━\u001b[0m\u001b[37m\u001b[0m \u001b[1m0s\u001b[0m 1ms/step - accuracy: 0.5007 - loss: 1.3776 - val_accuracy: 0.5143 - val_loss: 1.3508\n",
      "Epoch 43/100\n",
      "\u001b[1m158/158\u001b[0m \u001b[32m━━━━━━━━━━━━━━━━━━━━\u001b[0m\u001b[37m\u001b[0m \u001b[1m0s\u001b[0m 1ms/step - accuracy: 0.4954 - loss: 1.3975 - val_accuracy: 0.5208 - val_loss: 1.3510\n",
      "Epoch 44/100\n",
      "\u001b[1m158/158\u001b[0m \u001b[32m━━━━━━━━━━━━━━━━━━━━\u001b[0m\u001b[37m\u001b[0m \u001b[1m0s\u001b[0m 1ms/step - accuracy: 0.4836 - loss: 1.4111 - val_accuracy: 0.5292 - val_loss: 1.3301\n",
      "Epoch 45/100\n",
      "\u001b[1m158/158\u001b[0m \u001b[32m━━━━━━━━━━━━━━━━━━━━\u001b[0m\u001b[37m\u001b[0m \u001b[1m0s\u001b[0m 1ms/step - accuracy: 0.4936 - loss: 1.3798 - val_accuracy: 0.5220 - val_loss: 1.3268\n",
      "Epoch 46/100\n",
      "\u001b[1m158/158\u001b[0m \u001b[32m━━━━━━━━━━━━━━━━━━━━\u001b[0m\u001b[37m\u001b[0m \u001b[1m0s\u001b[0m 1ms/step - accuracy: 0.4890 - loss: 1.4044 - val_accuracy: 0.5119 - val_loss: 1.3258\n",
      "Epoch 47/100\n",
      "\u001b[1m158/158\u001b[0m \u001b[32m━━━━━━━━━━━━━━━━━━━━\u001b[0m\u001b[37m\u001b[0m \u001b[1m0s\u001b[0m 1ms/step - accuracy: 0.4974 - loss: 1.3774 - val_accuracy: 0.5202 - val_loss: 1.3259\n",
      "Epoch 48/100\n",
      "\u001b[1m158/158\u001b[0m \u001b[32m━━━━━━━━━━━━━━━━━━━━\u001b[0m\u001b[37m\u001b[0m \u001b[1m0s\u001b[0m 1ms/step - accuracy: 0.5129 - loss: 1.3689 - val_accuracy: 0.5458 - val_loss: 1.3036\n",
      "Epoch 49/100\n",
      "\u001b[1m158/158\u001b[0m \u001b[32m━━━━━━━━━━━━━━━━━━━━\u001b[0m\u001b[37m\u001b[0m \u001b[1m0s\u001b[0m 1ms/step - accuracy: 0.4977 - loss: 1.3461 - val_accuracy: 0.5167 - val_loss: 1.3206\n",
      "Epoch 50/100\n",
      "\u001b[1m158/158\u001b[0m \u001b[32m━━━━━━━━━━━━━━━━━━━━\u001b[0m\u001b[37m\u001b[0m \u001b[1m0s\u001b[0m 1ms/step - accuracy: 0.4957 - loss: 1.3781 - val_accuracy: 0.5381 - val_loss: 1.3029\n",
      "Epoch 51/100\n",
      "\u001b[1m158/158\u001b[0m \u001b[32m━━━━━━━━━━━━━━━━━━━━\u001b[0m\u001b[37m\u001b[0m \u001b[1m0s\u001b[0m 1ms/step - accuracy: 0.5042 - loss: 1.3625 - val_accuracy: 0.5298 - val_loss: 1.2997\n",
      "Epoch 52/100\n",
      "\u001b[1m158/158\u001b[0m \u001b[32m━━━━━━━━━━━━━━━━━━━━\u001b[0m\u001b[37m\u001b[0m \u001b[1m0s\u001b[0m 1ms/step - accuracy: 0.5033 - loss: 1.3575 - val_accuracy: 0.5500 - val_loss: 1.2931\n",
      "Epoch 53/100\n",
      "\u001b[1m158/158\u001b[0m \u001b[32m━━━━━━━━━━━━━━━━━━━━\u001b[0m\u001b[37m\u001b[0m \u001b[1m0s\u001b[0m 1ms/step - accuracy: 0.5238 - loss: 1.3347 - val_accuracy: 0.5327 - val_loss: 1.3052\n",
      "Epoch 54/100\n",
      "\u001b[1m158/158\u001b[0m \u001b[32m━━━━━━━━━━━━━━━━━━━━\u001b[0m\u001b[37m\u001b[0m \u001b[1m0s\u001b[0m 1ms/step - accuracy: 0.5143 - loss: 1.3408 - val_accuracy: 0.5405 - val_loss: 1.2954\n",
      "Epoch 55/100\n",
      "\u001b[1m158/158\u001b[0m \u001b[32m━━━━━━━━━━━━━━━━━━━━\u001b[0m\u001b[37m\u001b[0m \u001b[1m0s\u001b[0m 1ms/step - accuracy: 0.5023 - loss: 1.3685 - val_accuracy: 0.5482 - val_loss: 1.2936\n",
      "Epoch 56/100\n",
      "\u001b[1m158/158\u001b[0m \u001b[32m━━━━━━━━━━━━━━━━━━━━\u001b[0m\u001b[37m\u001b[0m \u001b[1m0s\u001b[0m 1ms/step - accuracy: 0.5059 - loss: 1.3750 - val_accuracy: 0.5202 - val_loss: 1.2944\n",
      "Epoch 57/100\n",
      "\u001b[1m158/158\u001b[0m \u001b[32m━━━━━━━━━━━━━━━━━━━━\u001b[0m\u001b[37m\u001b[0m \u001b[1m0s\u001b[0m 1ms/step - accuracy: 0.5188 - loss: 1.3356 - val_accuracy: 0.5440 - val_loss: 1.2745\n",
      "Epoch 58/100\n",
      "\u001b[1m158/158\u001b[0m \u001b[32m━━━━━━━━━━━━━━━━━━━━\u001b[0m\u001b[37m\u001b[0m \u001b[1m0s\u001b[0m 1ms/step - accuracy: 0.4989 - loss: 1.3532 - val_accuracy: 0.5333 - val_loss: 1.2785\n",
      "Epoch 59/100\n",
      "\u001b[1m158/158\u001b[0m \u001b[32m━━━━━━━━━━━━━━━━━━━━\u001b[0m\u001b[37m\u001b[0m \u001b[1m0s\u001b[0m 1ms/step - accuracy: 0.5199 - loss: 1.3206 - val_accuracy: 0.5583 - val_loss: 1.2682\n",
      "Epoch 60/100\n",
      "\u001b[1m158/158\u001b[0m \u001b[32m━━━━━━━━━━━━━━━━━━━━\u001b[0m\u001b[37m\u001b[0m \u001b[1m0s\u001b[0m 1ms/step - accuracy: 0.5205 - loss: 1.3083 - val_accuracy: 0.5363 - val_loss: 1.2665\n",
      "Epoch 61/100\n",
      "\u001b[1m158/158\u001b[0m \u001b[32m━━━━━━━━━━━━━━━━━━━━\u001b[0m\u001b[37m\u001b[0m \u001b[1m0s\u001b[0m 1ms/step - accuracy: 0.5233 - loss: 1.3094 - val_accuracy: 0.5488 - val_loss: 1.2555\n",
      "Epoch 62/100\n",
      "\u001b[1m158/158\u001b[0m \u001b[32m━━━━━━━━━━━━━━━━━━━━\u001b[0m\u001b[37m\u001b[0m \u001b[1m0s\u001b[0m 1ms/step - accuracy: 0.5288 - loss: 1.3178 - val_accuracy: 0.5363 - val_loss: 1.2783\n",
      "Epoch 63/100\n",
      "\u001b[1m158/158\u001b[0m \u001b[32m━━━━━━━━━━━━━━━━━━━━\u001b[0m\u001b[37m\u001b[0m \u001b[1m0s\u001b[0m 1ms/step - accuracy: 0.5180 - loss: 1.3227 - val_accuracy: 0.5435 - val_loss: 1.2640\n",
      "Epoch 64/100\n",
      "\u001b[1m158/158\u001b[0m \u001b[32m━━━━━━━━━━━━━━━━━━━━\u001b[0m\u001b[37m\u001b[0m \u001b[1m0s\u001b[0m 1ms/step - accuracy: 0.5186 - loss: 1.3220 - val_accuracy: 0.5339 - val_loss: 1.2692\n",
      "Epoch 65/100\n",
      "\u001b[1m158/158\u001b[0m \u001b[32m━━━━━━━━━━━━━━━━━━━━\u001b[0m\u001b[37m\u001b[0m \u001b[1m0s\u001b[0m 1ms/step - accuracy: 0.5248 - loss: 1.3164 - val_accuracy: 0.5298 - val_loss: 1.2815\n",
      "Epoch 66/100\n",
      "\u001b[1m158/158\u001b[0m \u001b[32m━━━━━━━━━━━━━━━━━━━━\u001b[0m\u001b[37m\u001b[0m \u001b[1m0s\u001b[0m 1ms/step - accuracy: 0.5292 - loss: 1.2971 - val_accuracy: 0.5232 - val_loss: 1.2643\n",
      "Epoch 67/100\n",
      "\u001b[1m158/158\u001b[0m \u001b[32m━━━━━━━━━━━━━━━━━━━━\u001b[0m\u001b[37m\u001b[0m \u001b[1m0s\u001b[0m 1ms/step - accuracy: 0.5360 - loss: 1.3081 - val_accuracy: 0.5262 - val_loss: 1.2628\n",
      "Epoch 68/100\n",
      "\u001b[1m158/158\u001b[0m \u001b[32m━━━━━━━━━━━━━━━━━━━━\u001b[0m\u001b[37m\u001b[0m \u001b[1m0s\u001b[0m 1ms/step - accuracy: 0.5200 - loss: 1.3156 - val_accuracy: 0.5298 - val_loss: 1.2603\n",
      "Epoch 69/100\n",
      "\u001b[1m158/158\u001b[0m \u001b[32m━━━━━━━━━━━━━━━━━━━━\u001b[0m\u001b[37m\u001b[0m \u001b[1m0s\u001b[0m 1ms/step - accuracy: 0.5163 - loss: 1.3287 - val_accuracy: 0.5405 - val_loss: 1.2436\n",
      "Epoch 70/100\n",
      "\u001b[1m158/158\u001b[0m \u001b[32m━━━━━━━━━━━━━━━━━━━━\u001b[0m\u001b[37m\u001b[0m \u001b[1m0s\u001b[0m 1ms/step - accuracy: 0.5273 - loss: 1.3038 - val_accuracy: 0.5411 - val_loss: 1.2492\n",
      "Epoch 71/100\n",
      "\u001b[1m158/158\u001b[0m \u001b[32m━━━━━━━━━━━━━━━━━━━━\u001b[0m\u001b[37m\u001b[0m \u001b[1m0s\u001b[0m 1ms/step - accuracy: 0.5270 - loss: 1.3079 - val_accuracy: 0.5506 - val_loss: 1.2345\n",
      "Epoch 72/100\n",
      "\u001b[1m158/158\u001b[0m \u001b[32m━━━━━━━━━━━━━━━━━━━━\u001b[0m\u001b[37m\u001b[0m \u001b[1m0s\u001b[0m 1ms/step - accuracy: 0.5279 - loss: 1.2997 - val_accuracy: 0.5488 - val_loss: 1.2397\n",
      "Epoch 73/100\n",
      "\u001b[1m158/158\u001b[0m \u001b[32m━━━━━━━━━━━━━━━━━━━━\u001b[0m\u001b[37m\u001b[0m \u001b[1m0s\u001b[0m 1ms/step - accuracy: 0.5343 - loss: 1.2888 - val_accuracy: 0.5381 - val_loss: 1.2418\n",
      "Epoch 74/100\n",
      "\u001b[1m158/158\u001b[0m \u001b[32m━━━━━━━━━━━━━━━━━━━━\u001b[0m\u001b[37m\u001b[0m \u001b[1m0s\u001b[0m 1ms/step - accuracy: 0.5260 - loss: 1.3071 - val_accuracy: 0.5506 - val_loss: 1.2364\n",
      "Epoch 75/100\n",
      "\u001b[1m158/158\u001b[0m \u001b[32m━━━━━━━━━━━━━━━━━━━━\u001b[0m\u001b[37m\u001b[0m \u001b[1m0s\u001b[0m 1ms/step - accuracy: 0.5289 - loss: 1.2793 - val_accuracy: 0.5321 - val_loss: 1.2522\n",
      "Epoch 76/100\n",
      "\u001b[1m158/158\u001b[0m \u001b[32m━━━━━━━━━━━━━━━━━━━━\u001b[0m\u001b[37m\u001b[0m \u001b[1m0s\u001b[0m 1ms/step - accuracy: 0.5416 - loss: 1.2753 - val_accuracy: 0.5452 - val_loss: 1.2282\n",
      "Epoch 77/100\n",
      "\u001b[1m158/158\u001b[0m \u001b[32m━━━━━━━━━━━━━━━━━━━━\u001b[0m\u001b[37m\u001b[0m \u001b[1m0s\u001b[0m 1ms/step - accuracy: 0.5280 - loss: 1.2885 - val_accuracy: 0.5393 - val_loss: 1.2357\n",
      "Epoch 78/100\n",
      "\u001b[1m158/158\u001b[0m \u001b[32m━━━━━━━━━━━━━━━━━━━━\u001b[0m\u001b[37m\u001b[0m \u001b[1m0s\u001b[0m 1ms/step - accuracy: 0.5303 - loss: 1.2701 - val_accuracy: 0.5667 - val_loss: 1.2089\n",
      "Epoch 79/100\n",
      "\u001b[1m158/158\u001b[0m \u001b[32m━━━━━━━━━━━━━━━━━━━━\u001b[0m\u001b[37m\u001b[0m \u001b[1m0s\u001b[0m 1ms/step - accuracy: 0.5528 - loss: 1.2607 - val_accuracy: 0.5417 - val_loss: 1.2281\n",
      "Epoch 80/100\n",
      "\u001b[1m158/158\u001b[0m \u001b[32m━━━━━━━━━━━━━━━━━━━━\u001b[0m\u001b[37m\u001b[0m \u001b[1m0s\u001b[0m 1ms/step - accuracy: 0.5276 - loss: 1.2745 - val_accuracy: 0.5458 - val_loss: 1.2257\n",
      "Epoch 81/100\n",
      "\u001b[1m158/158\u001b[0m \u001b[32m━━━━━━━━━━━━━━━━━━━━\u001b[0m\u001b[37m\u001b[0m \u001b[1m0s\u001b[0m 1ms/step - accuracy: 0.5415 - loss: 1.2468 - val_accuracy: 0.5661 - val_loss: 1.2182\n",
      "Epoch 82/100\n",
      "\u001b[1m158/158\u001b[0m \u001b[32m━━━━━━━━━━━━━━━━━━━━\u001b[0m\u001b[37m\u001b[0m \u001b[1m0s\u001b[0m 1ms/step - accuracy: 0.5347 - loss: 1.2921 - val_accuracy: 0.5625 - val_loss: 1.2109\n",
      "Epoch 83/100\n",
      "\u001b[1m158/158\u001b[0m \u001b[32m━━━━━━━━━━━━━━━━━━━━\u001b[0m\u001b[37m\u001b[0m \u001b[1m0s\u001b[0m 1ms/step - accuracy: 0.5342 - loss: 1.2753 - val_accuracy: 0.5488 - val_loss: 1.2235\n",
      "Epoch 84/100\n",
      "\u001b[1m158/158\u001b[0m \u001b[32m━━━━━━━━━━━━━━━━━━━━\u001b[0m\u001b[37m\u001b[0m \u001b[1m0s\u001b[0m 1ms/step - accuracy: 0.5541 - loss: 1.2607 - val_accuracy: 0.5702 - val_loss: 1.2212\n",
      "Epoch 85/100\n",
      "\u001b[1m158/158\u001b[0m \u001b[32m━━━━━━━━━━━━━━━━━━━━\u001b[0m\u001b[37m\u001b[0m \u001b[1m0s\u001b[0m 1ms/step - accuracy: 0.5427 - loss: 1.2775 - val_accuracy: 0.5643 - val_loss: 1.1943\n",
      "Epoch 86/100\n",
      "\u001b[1m158/158\u001b[0m \u001b[32m━━━━━━━━━━━━━━━━━━━━\u001b[0m\u001b[37m\u001b[0m \u001b[1m0s\u001b[0m 1ms/step - accuracy: 0.5316 - loss: 1.2590 - val_accuracy: 0.5679 - val_loss: 1.2057\n",
      "Epoch 87/100\n",
      "\u001b[1m158/158\u001b[0m \u001b[32m━━━━━━━━━━━━━━━━━━━━\u001b[0m\u001b[37m\u001b[0m \u001b[1m0s\u001b[0m 1ms/step - accuracy: 0.5435 - loss: 1.2584 - val_accuracy: 0.5607 - val_loss: 1.2028\n",
      "Epoch 88/100\n",
      "\u001b[1m158/158\u001b[0m \u001b[32m━━━━━━━━━━━━━━━━━━━━\u001b[0m\u001b[37m\u001b[0m \u001b[1m0s\u001b[0m 1ms/step - accuracy: 0.5367 - loss: 1.2418 - val_accuracy: 0.5661 - val_loss: 1.2021\n",
      "Epoch 89/100\n",
      "\u001b[1m158/158\u001b[0m \u001b[32m━━━━━━━━━━━━━━━━━━━━\u001b[0m\u001b[37m\u001b[0m \u001b[1m0s\u001b[0m 1ms/step - accuracy: 0.5351 - loss: 1.2672 - val_accuracy: 0.5690 - val_loss: 1.2040\n",
      "Epoch 90/100\n",
      "\u001b[1m158/158\u001b[0m \u001b[32m━━━━━━━━━━━━━━━━━━━━\u001b[0m\u001b[37m\u001b[0m \u001b[1m0s\u001b[0m 1ms/step - accuracy: 0.5457 - loss: 1.2432 - val_accuracy: 0.5637 - val_loss: 1.1983\n",
      "Epoch 91/100\n",
      "\u001b[1m158/158\u001b[0m \u001b[32m━━━━━━━━━━━━━━━━━━━━\u001b[0m\u001b[37m\u001b[0m \u001b[1m0s\u001b[0m 1ms/step - accuracy: 0.5419 - loss: 1.2523 - val_accuracy: 0.5631 - val_loss: 1.1888\n",
      "Epoch 92/100\n",
      "\u001b[1m158/158\u001b[0m \u001b[32m━━━━━━━━━━━━━━━━━━━━\u001b[0m\u001b[37m\u001b[0m \u001b[1m0s\u001b[0m 1ms/step - accuracy: 0.5503 - loss: 1.2317 - val_accuracy: 0.5673 - val_loss: 1.1810\n",
      "Epoch 93/100\n",
      "\u001b[1m158/158\u001b[0m \u001b[32m━━━━━━━━━━━━━━━━━━━━\u001b[0m\u001b[37m\u001b[0m \u001b[1m0s\u001b[0m 1ms/step - accuracy: 0.5502 - loss: 1.2337 - val_accuracy: 0.5768 - val_loss: 1.1964\n",
      "Epoch 94/100\n",
      "\u001b[1m158/158\u001b[0m \u001b[32m━━━━━━━━━━━━━━━━━━━━\u001b[0m\u001b[37m\u001b[0m \u001b[1m0s\u001b[0m 1ms/step - accuracy: 0.5413 - loss: 1.2415 - val_accuracy: 0.5655 - val_loss: 1.1857\n",
      "Epoch 95/100\n",
      "\u001b[1m158/158\u001b[0m \u001b[32m━━━━━━━━━━━━━━━━━━━━\u001b[0m\u001b[37m\u001b[0m \u001b[1m0s\u001b[0m 1ms/step - accuracy: 0.5578 - loss: 1.2215 - val_accuracy: 0.5714 - val_loss: 1.1851\n",
      "Epoch 96/100\n",
      "\u001b[1m158/158\u001b[0m \u001b[32m━━━━━━━━━━━━━━━━━━━━\u001b[0m\u001b[37m\u001b[0m \u001b[1m0s\u001b[0m 1ms/step - accuracy: 0.5426 - loss: 1.2503 - val_accuracy: 0.5827 - val_loss: 1.1771\n",
      "Epoch 97/100\n",
      "\u001b[1m158/158\u001b[0m \u001b[32m━━━━━━━━━━━━━━━━━━━━\u001b[0m\u001b[37m\u001b[0m \u001b[1m0s\u001b[0m 1ms/step - accuracy: 0.5596 - loss: 1.2371 - val_accuracy: 0.5649 - val_loss: 1.1765\n",
      "Epoch 98/100\n",
      "\u001b[1m158/158\u001b[0m \u001b[32m━━━━━━━━━━━━━━━━━━━━\u001b[0m\u001b[37m\u001b[0m \u001b[1m0s\u001b[0m 1ms/step - accuracy: 0.5392 - loss: 1.2654 - val_accuracy: 0.5744 - val_loss: 1.1737\n",
      "Epoch 99/100\n",
      "\u001b[1m158/158\u001b[0m \u001b[32m━━━━━━━━━━━━━━━━━━━━\u001b[0m\u001b[37m\u001b[0m \u001b[1m0s\u001b[0m 1ms/step - accuracy: 0.5433 - loss: 1.2482 - val_accuracy: 0.5708 - val_loss: 1.1813\n",
      "Epoch 100/100\n",
      "\u001b[1m158/158\u001b[0m \u001b[32m━━━━━━━━━━━━━━━━━━━━\u001b[0m\u001b[37m\u001b[0m \u001b[1m0s\u001b[0m 1ms/step - accuracy: 0.5430 - loss: 1.2508 - val_accuracy: 0.5619 - val_loss: 1.1790\n"
     ]
    }
   ],
   "source": [
    "# Número de classes (instrumentos)\n",
    "num_classes = len(np.unique(y))\n",
    "print(f\"num_classes: {num_classes}\")\n",
    "\n",
    "\n",
    "# Codificar o target para one-hot\n",
    "y_train_cat = to_categorical(y_train, num_classes)\n",
    "y_val_cat = to_categorical(y_val, num_classes)\n",
    "y_test_cat = to_categorical(y_test, num_classes)\n",
    "\n",
    "# Definir modelo\n",
    "model = Sequential([\n",
    "    Dense(128, input_shape=(X_train.shape[1],), activation='relu'),\n",
    "    Dropout(0.3),\n",
    "    Dense(64, activation='relu'),\n",
    "    Dropout(0.3),\n",
    "    Dense(32, activation='relu'),\n",
    "    Dense(num_classes, activation='softmax')  # saída com softmax para classificação multiclasse\n",
    "])\n",
    "\n",
    "opt = optimizers.Adam(learning_rate = 0.001)\n",
    "# Compilar\n",
    "model.compile(\n",
    "    optimizer=opt,\n",
    "    loss='categorical_crossentropy',\n",
    "    metrics=['accuracy']\n",
    ")\n",
    "\n",
    "\n",
    "# Treinar\n",
    "history = model.fit(\n",
    "    X_train, y_train_cat,\n",
    "    validation_data=(X_val, y_val_cat),\n",
    "    epochs=100,\n",
    "    batch_size=32,\n",
    "    verbose=1\n",
    ")\n"
   ]
  },
  {
   "cell_type": "code",
   "execution_count": 277,
   "metadata": {},
   "outputs": [
    {
     "name": "stdout",
     "output_type": "stream",
     "text": [
      "\n",
      "✅ Acurácia final no conjunto de teste: 0.5851190686225891\n"
     ]
    },
    {
     "data": {
      "image/png": "[encoded data removed]",
      "text/plain": [
       "<Figure size 1200x1000 with 1 Axes>"
      ]
     },
     "metadata": {},
     "output_type": "display_data"
    }
   ],
   "source": [
    "# Avaliar no conjunto de teste\n",
    "loss, acc = model.evaluate(X_test, y_test_cat, verbose=0)\n",
    "print(f\"\\n✅ Acurácia final no conjunto de teste: {acc}\")\n",
    "# 2. Previsões para a matriz de confusão\n",
    "y_pred = model.predict(X_test, verbose=0)\n",
    "y_pred_classes = np.argmax(y_pred, axis=1)  # Converte de one-hot para classes\n",
    "y_true_classes = np.argmax(y_test_cat, axis=1)\n",
    "\n",
    "# 3. Matriz de confusão\n",
    "cm = confusion_matrix(y_true_classes, y_pred_classes)\n",
    "\n",
    "# 4. Plot personalizado\n",
    "fig, ax = plt.subplots(figsize=(12, 10))\n",
    "disp = ConfusionMatrixDisplay(\n",
    "    confusion_matrix=cm,\n",
    "    display_labels=le.classes_  \n",
    ")\n",
    "disp.plot(\n",
    "    cmap='Blues',\n",
    "    xticks_rotation=45,\n",
    "    ax=ax,\n",
    "    values_format='d',\n",
    "    colorbar=False\n",
    ")\n",
    "plt.title(f\"Matriz de Confusão (Acurácia: {acc:.2%})\", pad=20)\n",
    "plt.tight_layout()\n",
    "plt.show()"
   ]
  },
  {
   "cell_type": "code",
   "execution_count": 278,
   "metadata": {},
   "outputs": [
    {
     "data": {
      "text/html": [
       "<pre style=\"white-space:pre;overflow-x:auto;line-height:normal;font-family:Menlo,'DejaVu Sans Mono',consolas,'Courier New',monospace\"><span style=\"font-weight: bold\">Model: \"sequential_33\"</span>\n",
       "</pre>\n"
      ],
      "text/plain": [
       "\u001b[1mModel: \"sequential_33\"\u001b[0m\n"
      ]
     },
     "metadata": {},
     "output_type": "display_data"
    },
    {
     "data": {
      "text/html": [
       "<pre style=\"white-space:pre;overflow-x:auto;line-height:normal;font-family:Menlo,'DejaVu Sans Mono',consolas,'Courier New',monospace\">┏━━━━━━━━━━━━━━━━━━━━━━━━━━━━━━━━━┳━━━━━━━━━━━━━━━━━━━━━━━━┳━━━━━━━━━━━━━━━┓\n",
       "┃<span style=\"font-weight: bold\"> Layer (type)                    </span>┃<span style=\"font-weight: bold\"> Output Shape           </span>┃<span style=\"font-weight: bold\">       Param # </span>┃\n",
       "┡━━━━━━━━━━━━━━━━━━━━━━━━━━━━━━━━━╇━━━━━━━━━━━━━━━━━━━━━━━━╇━━━━━━━━━━━━━━━┩\n",
       "│ dense_127 (<span style=\"color: #0087ff; text-decoration-color: #0087ff\">Dense</span>)               │ (<span style=\"color: #00d7ff; text-decoration-color: #00d7ff\">None</span>, <span style=\"color: #00af00; text-decoration-color: #00af00\">128</span>)            │         <span style=\"color: #00af00; text-decoration-color: #00af00\">2,432</span> │\n",
       "├─────────────────────────────────┼────────────────────────┼───────────────┤\n",
       "│ dropout_79 (<span style=\"color: #0087ff; text-decoration-color: #0087ff\">Dropout</span>)            │ (<span style=\"color: #00d7ff; text-decoration-color: #00d7ff\">None</span>, <span style=\"color: #00af00; text-decoration-color: #00af00\">128</span>)            │             <span style=\"color: #00af00; text-decoration-color: #00af00\">0</span> │\n",
       "├─────────────────────────────────┼────────────────────────┼───────────────┤\n",
       "│ dense_128 (<span style=\"color: #0087ff; text-decoration-color: #0087ff\">Dense</span>)               │ (<span style=\"color: #00d7ff; text-decoration-color: #00d7ff\">None</span>, <span style=\"color: #00af00; text-decoration-color: #00af00\">64</span>)             │         <span style=\"color: #00af00; text-decoration-color: #00af00\">8,256</span> │\n",
       "├─────────────────────────────────┼────────────────────────┼───────────────┤\n",
       "│ dropout_80 (<span style=\"color: #0087ff; text-decoration-color: #0087ff\">Dropout</span>)            │ (<span style=\"color: #00d7ff; text-decoration-color: #00d7ff\">None</span>, <span style=\"color: #00af00; text-decoration-color: #00af00\">64</span>)             │             <span style=\"color: #00af00; text-decoration-color: #00af00\">0</span> │\n",
       "├─────────────────────────────────┼────────────────────────┼───────────────┤\n",
       "│ dense_129 (<span style=\"color: #0087ff; text-decoration-color: #0087ff\">Dense</span>)               │ (<span style=\"color: #00d7ff; text-decoration-color: #00d7ff\">None</span>, <span style=\"color: #00af00; text-decoration-color: #00af00\">32</span>)             │         <span style=\"color: #00af00; text-decoration-color: #00af00\">2,080</span> │\n",
       "├─────────────────────────────────┼────────────────────────┼───────────────┤\n",
       "│ dense_130 (<span style=\"color: #0087ff; text-decoration-color: #0087ff\">Dense</span>)               │ (<span style=\"color: #00d7ff; text-decoration-color: #00d7ff\">None</span>, <span style=\"color: #00af00; text-decoration-color: #00af00\">14</span>)             │           <span style=\"color: #00af00; text-decoration-color: #00af00\">462</span> │\n",
       "└─────────────────────────────────┴────────────────────────┴───────────────┘\n",
       "</pre>\n"
      ],
      "text/plain": [
       "┏━━━━━━━━━━━━━━━━━━━━━━━━━━━━━━━━━┳━━━━━━━━━━━━━━━━━━━━━━━━┳━━━━━━━━━━━━━━━┓\n",
       "┃\u001b[1m \u001b[0m\u001b[1mLayer (type)                   \u001b[0m\u001b[1m \u001b[0m┃\u001b[1m \u001b[0m\u001b[1mOutput Shape          \u001b[0m\u001b[1m \u001b[0m┃\u001b[1m \u001b[0m\u001b[1m      Param #\u001b[0m\u001b[1m \u001b[0m┃\n",
       "┡━━━━━━━━━━━━━━━━━━━━━━━━━━━━━━━━━╇━━━━━━━━━━━━━━━━━━━━━━━━╇━━━━━━━━━━━━━━━┩\n",
       "│ dense_127 (\u001b[38;5;33mDense\u001b[0m)               │ (\u001b[38;5;45mNone\u001b[0m, \u001b[38;5;34m128\u001b[0m)            │         \u001b[38;5;34m2,432\u001b[0m │\n",
       "├─────────────────────────────────┼────────────────────────┼───────────────┤\n",
       "│ dropout_79 (\u001b[38;5;33mDropout\u001b[0m)            │ (\u001b[38;5;45mNone\u001b[0m, \u001b[38;5;34m128\u001b[0m)            │             \u001b[38;5;34m0\u001b[0m │\n",
       "├─────────────────────────────────┼────────────────────────┼───────────────┤\n",
       "│ dense_128 (\u001b[38;5;33mDense\u001b[0m)               │ (\u001b[38;5;45mNone\u001b[0m, \u001b[38;5;34m64\u001b[0m)             │         \u001b[38;5;34m8,256\u001b[0m │\n",
       "├─────────────────────────────────┼────────────────────────┼───────────────┤\n",
       "│ dropout_80 (\u001b[38;5;33mDropout\u001b[0m)            │ (\u001b[38;5;45mNone\u001b[0m, \u001b[38;5;34m64\u001b[0m)             │             \u001b[38;5;34m0\u001b[0m │\n",
       "├─────────────────────────────────┼────────────────────────┼───────────────┤\n",
       "│ dense_129 (\u001b[38;5;33mDense\u001b[0m)               │ (\u001b[38;5;45mNone\u001b[0m, \u001b[38;5;34m32\u001b[0m)             │         \u001b[38;5;34m2,080\u001b[0m │\n",
       "├─────────────────────────────────┼────────────────────────┼───────────────┤\n",
       "│ dense_130 (\u001b[38;5;33mDense\u001b[0m)               │ (\u001b[38;5;45mNone\u001b[0m, \u001b[38;5;34m14\u001b[0m)             │           \u001b[38;5;34m462\u001b[0m │\n",
       "└─────────────────────────────────┴────────────────────────┴───────────────┘\n"
      ]
     },
     "metadata": {},
     "output_type": "display_data"
    },
    {
     "data": {
      "text/html": [
       "<pre style=\"white-space:pre;overflow-x:auto;line-height:normal;font-family:Menlo,'DejaVu Sans Mono',consolas,'Courier New',monospace\"><span style=\"font-weight: bold\"> Total params: </span><span style=\"color: #00af00; text-decoration-color: #00af00\">39,692</span> (155.05 KB)\n",
       "</pre>\n"
      ],
      "text/plain": [
       "\u001b[1m Total params: \u001b[0m\u001b[38;5;34m39,692\u001b[0m (155.05 KB)\n"
      ]
     },
     "metadata": {},
     "output_type": "display_data"
    },
    {
     "data": {
      "text/html": [
       "<pre style=\"white-space:pre;overflow-x:auto;line-height:normal;font-family:Menlo,'DejaVu Sans Mono',consolas,'Courier New',monospace\"><span style=\"font-weight: bold\"> Trainable params: </span><span style=\"color: #00af00; text-decoration-color: #00af00\">13,230</span> (51.68 KB)\n",
       "</pre>\n"
      ],
      "text/plain": [
       "\u001b[1m Trainable params: \u001b[0m\u001b[38;5;34m13,230\u001b[0m (51.68 KB)\n"
      ]
     },
     "metadata": {},
     "output_type": "display_data"
    },
    {
     "data": {
      "text/html": [
       "<pre style=\"white-space:pre;overflow-x:auto;line-height:normal;font-family:Menlo,'DejaVu Sans Mono',consolas,'Courier New',monospace\"><span style=\"font-weight: bold\"> Non-trainable params: </span><span style=\"color: #00af00; text-decoration-color: #00af00\">0</span> (0.00 B)\n",
       "</pre>\n"
      ],
      "text/plain": [
       "\u001b[1m Non-trainable params: \u001b[0m\u001b[38;5;34m0\u001b[0m (0.00 B)\n"
      ]
     },
     "metadata": {},
     "output_type": "display_data"
    },
    {
     "data": {
      "text/html": [
       "<pre style=\"white-space:pre;overflow-x:auto;line-height:normal;font-family:Menlo,'DejaVu Sans Mono',consolas,'Courier New',monospace\"><span style=\"font-weight: bold\"> Optimizer params: </span><span style=\"color: #00af00; text-decoration-color: #00af00\">26,462</span> (103.37 KB)\n",
       "</pre>\n"
      ],
      "text/plain": [
       "\u001b[1m Optimizer params: \u001b[0m\u001b[38;5;34m26,462\u001b[0m (103.37 KB)\n"
      ]
     },
     "metadata": {},
     "output_type": "display_data"
    }
   ],
   "source": [
    "model.summary()"
   ]
  },
  {
   "cell_type": "code",
   "execution_count": 279,
   "metadata": {},
   "outputs": [
    {
     "data": {
      "image/png": "[encoded data removed]",
      "text/plain": [
       "<Figure size 640x480 with 1 Axes>"
      ]
     },
     "metadata": {},
     "output_type": "display_data"
    }
   ],
   "source": [
    "\n",
    "\n",
    "plt.plot(history.history['accuracy'], label='Treino')\n",
    "plt.plot(history.history['val_accuracy'], label='Validação')\n",
    "plt.title('Acurácia durante o treino')\n",
    "plt.xlabel('Época')\n",
    "plt.ylabel('Acurácia')\n",
    "plt.legend()\n",
    "plt.grid()\n",
    "plt.show()"
   ]
  },
  {
   "cell_type": "code",
   "execution_count": null,
   "metadata": {},
   "outputs": [],
   "source": []
  }
 ],
 "metadata": {
  "kernelspec": {
   "display_name": ".venv",
   "language": "python",
   "name": "python3"
  },
  "language_info": {
   "codemirror_mode": {
    "name": "ipython",
    "version": 3
   },
   "file_extension": ".py",
   "mimetype": "text/x-python",
   "name": "python",
   "nbconvert_exporter": "python",
   "pygments_lexer": "ipython3",
   "version": "3.12.9"
  }
 },
 "nbformat": 4,
 "nbformat_minor": 2
}
