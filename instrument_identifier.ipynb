{
 "cells": [
  {
   "cell_type": "markdown",
   "metadata": {},
   "source": [
    "# Importing libs"
   ]
  },
  {
   "cell_type": "code",
   "execution_count": 2,
   "metadata": {},
   "outputs": [],
   "source": [
    "from scipy.fftpack import dct\n",
    "import librosa\n",
    "import numpy as np\n",
    "import pandas as pd\n",
    "import os\n",
    "import matplotlib.pyplot as plt\n",
    "from sklearn.ensemble import RandomForestClassifier\n",
    "from sklearn.model_selection import train_test_split\n",
    "from sklearn.preprocessing import StandardScaler\n",
    "from sklearn.metrics import accuracy_score"
   ]
  },
  {
   "cell_type": "markdown",
   "metadata": {},
   "source": [
    "## Creating dataframe"
   ]
  },
  {
   "cell_type": "code",
   "execution_count": 4,
   "metadata": {},
   "outputs": [
    {
     "name": "stdout",
     "output_type": "stream",
     "text": [
      "TinySOL/Brass/Trombone/ordinario/\n",
      "TinySOL/Keyboards/Accordion/ordinario/\n",
      "TinySOL/Strings/Violin/ordinario/\n",
      "TinySOL/Winds/Flute/ordinario/\n"
     ]
    }
   ],
   "source": [
    "base_path = \"TinySOL/\"\n",
    "instruments_type = [\"Brass\", \"Keyboards\", \"Strings\", \"Winds\"]\n",
    "instruments = [\"Trombone\", \"Accordion\", \"Violin\", \"Flute\"]\n",
    "instruments_df = []\n",
    "\n",
    "\n",
    "for instrument_type, instrument in zip(instruments_type, instruments):\n",
    "    full_path = os.path.join(base_path, instrument_type, instrument, \"ordinario/\")\n",
    "    note_value = []\n",
    "    qct_frequencies_per_note = []\n",
    "\n",
    "    df_instrument = {\n",
    "        'instrument_name': instrument\n",
    "    }\n",
    "    print(full_path)\n",
    "    \n",
    "    for file in os.listdir(full_path):\n",
    "        if file.endswith(\".wav\"):\n",
    "            note = file.split('-')[2]\n",
    "            wav_path = os.path.join(full_path, file)\n",
    "            y, sr = librosa.load(wav_path, sr=None)\n",
    "            cqt = librosa.cqt(y, sr=sr, n_bins=84, bins_per_octave=12)\n",
    "\n",
    "            cqt_db = librosa.amplitude_to_db(np.abs(cqt), ref=np.max)\n",
    "\n",
    "            frequencies = librosa.cqt_frequencies(n_bins=84, fmin=librosa.note_to_hz('C2'))\n",
    "            top_indices = np.argsort(np.mean(cqt_db, axis=1))[::-1][:12]\n",
    "            top_frequencies = frequencies[top_indices]\n",
    "\n",
    "            note_value.append(note)\n",
    "            qct_frequencies_per_note.append(top_frequencies)\n",
    "\n",
    "    df_instrument['note'] = note_value\n",
    "    df_instrument['frequencies'] = qct_frequencies_per_note\n",
    "    df_instrument = pd.DataFrame(df_instrument)\n",
    "    instruments_df.append(df_instrument)\n",
    "\n",
    "\n",
    "\n",
    "\n",
    "instruments_df = pd.concat(instruments_df, ignore_index=True)\n"
   ]
  },
  {
   "cell_type": "markdown",
   "metadata": {},
   "source": [
    "# Saving dataframe into csv "
   ]
  },
  {
   "cell_type": "code",
   "execution_count": 6,
   "metadata": {},
   "outputs": [],
   "source": [
    "instruments_df.head()\n",
    "instruments_df.to_csv('dataset/dataset.csv', index=False)"
   ]
  },
  {
   "cell_type": "code",
   "execution_count": null,
   "metadata": {},
   "outputs": [],
   "source": []
  }
 ],
 "metadata": {
  "kernelspec": {
   "display_name": ".venv",
   "language": "python",
   "name": "python3"
  },
  "language_info": {
   "codemirror_mode": {
    "name": "ipython",
    "version": 3
   },
   "file_extension": ".py",
   "mimetype": "text/x-python",
   "name": "python",
   "nbconvert_exporter": "python",
   "pygments_lexer": "ipython3",
   "version": "3.12.9"
  }
 },
 "nbformat": 4,
 "nbformat_minor": 2
}
